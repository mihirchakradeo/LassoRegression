{
 "cells": [
  {
   "cell_type": "markdown",
   "metadata": {},
   "source": [
    "# Coordinate Descent to solve Lasso Regression on a Normally Distributed Synthetic Data"
   ]
  },
  {
   "cell_type": "code",
   "execution_count": 105,
   "metadata": {
    "collapsed": true
   },
   "outputs": [],
   "source": [
    "import numpy as np\n",
    "import pandas as pd\n",
    "from scipy import sparse\n",
    "import matplotlib.pyplot as plt\n",
    "import random"
   ]
  },
  {
   "cell_type": "markdown",
   "metadata": {},
   "source": [
    "## Generating the synthetic data"
   ]
  },
  {
   "cell_type": "code",
   "execution_count": 106,
   "metadata": {},
   "outputs": [],
   "source": [
    "#Q 4.3.1\n",
    "#Sampling from std normal distribution\n",
    "d = 80\n",
    "n = 250\n",
    "k = 10\n",
    "\n",
    "X = np.random.standard_normal(size=(d,n))\n",
    "b = 0\n",
    "W = np.zeros(d)\n",
    "for i in range(k):\n",
    "    t = random.uniform(0,1)\n",
    "    if t >= 0.5:\n",
    "        W[i] = 10\n",
    "    else:\n",
    "        W[i] = -10\n",
    "        \n",
    "# W[:k] = 10\n",
    "eps = np.random.normal(0, 1, size=(n))\n",
    "Y = X.T.dot(W) + b + eps\n",
    "\n",
    "#creating sparse matrix\n",
    "X = sparse.csr_matrix(X)\n",
    "lambda_max = 2*np.linalg.norm(X.dot(Y - np.mean(Y)), ord=np.inf)\n",
    "ak = 2*np.sum(i*i for i in X.T.toarray())"
   ]
  },
  {
   "cell_type": "code",
   "execution_count": 1,
   "metadata": {
    "collapsed": true,
    "scrolled": false
   },
   "outputs": [],
   "source": [
    "def coordinate_descent(lambda_max, Y, X, W, b, K):\n",
    "    lambdavalues = []\n",
    "    lossvalues = []\n",
    "    nonzeroes = []\n",
    "    precisionVal = []\n",
    "    recallVal = []\n",
    "    \n",
    "    \n",
    "    #set convergence condition\n",
    "    for iteration in range(10):\n",
    "        #STEP 1: Computing residual vector r (4.1.1)\n",
    "        r = Y - X.T*W - b\n",
    "\n",
    "        #STEP 2: Update b (4.1.2)\n",
    "        bOld = b\n",
    "        b = (1.0/n)*(r+b).sum()\n",
    "\n",
    "        #STEP 3: Update r(4.1.3)\n",
    "        r = r + bOld - b\n",
    "        for k in range(d):\n",
    "            #STEP 4: Calculate ck (4.1.4) \n",
    "            xik = X[k]\n",
    "\n",
    "            t = xik.T*W[k]\n",
    "            t = t.toarray().reshape(n)\n",
    "\n",
    "            ck = 2*xik*(r+t)\n",
    "            ck =  ck.item(0)\n",
    "\n",
    "            #STEP 5: Update wk\n",
    "            Wo = W[k]\n",
    "            if ck < -lambda_max:\n",
    "                W[k] = (ck + lambda_max)/ak[k]\n",
    "            elif -lambda_max <= ck <= lambda_max:\n",
    "                W[k] = 0\n",
    "            elif ck > lambda_max:\n",
    "                W[k] = (ck - lambda_max)/ak[k]\n",
    "\n",
    "            #STEP 6: Update r (4.1.5)        \n",
    "            r = r.reshape(n,1) + X[k].T*(Wo-W[k])\n",
    "            r = np.squeeze(np.asarray(r))\n",
    "\n",
    "\n",
    "\n",
    "        #Loss\n",
    "        t1 = (X.T*W+b-Y)\n",
    "        t11 = np.square(t1)\n",
    "        t2 = np.sum(t11)\n",
    "        loss = t2 + lambda_max*(np.sum(np.absolute(W)))\n",
    "        print \"Loss: \",loss\n",
    "        lossvalues.append(loss)\n",
    "        #lambda values for graph\n",
    "        lambdavalues.append(lambda_max)\n",
    "        lambda_max = lambda_max/2\n",
    "        nonzeroes.append(np.count_nonzero(W))\n",
    "        \n",
    "        #precision\n",
    "        if np.count_nonzero(W) != 0:\n",
    "            precisionVal.append(np.count_nonzero(W[:K])*1./float(np.count_nonzero(W)))\n",
    "        else:\n",
    "            precisionVal.append(1)\n",
    "        \n",
    "        #recall\n",
    "        recallVal.append(np.count_nonzero(W[:K])/float(K))\n",
    "            \n",
    "    return lambdavalues, lossvalues, nonzeroes, W, b, precisionVal, recallVal\n",
    "            \n",
    "def rmse(P, A):\n",
    "    return np.sqrt(((P-A)**2).mean())"
   ]
  },
  {
   "cell_type": "code",
   "execution_count": 108,
   "metadata": {
    "scrolled": true
   },
   "outputs": [
    {
     "name": "stdout",
     "output_type": "stream",
     "text": [
      "Loss:  217368.20569311507\n",
      "Loss:  180873.53808206896\n",
      "Loss:  110211.40282046895\n",
      "Loss:  60058.621381204895\n",
      "Loss:  31359.790603699126\n",
      "Loss:  16106.805410281055\n",
      "Loss:  8254.472336850637\n",
      "Loss:  4267.768954957859\n",
      "Loss:  2247.9560963995405\n",
      "Loss:  1224.6889881252976\n"
     ]
    }
   ],
   "source": [
    "# r = Y - X.T*W - b\n",
    "lambdavalues, lossvalues, nonzeroes, W_f, b_f, precisionVal, recallVal = coordinate_descent(lambda_max, Y, X, W, b, k)"
   ]
  },
  {
   "cell_type": "markdown",
   "metadata": {},
   "source": [
    "## Plot of Precision and Recall vs Lambda"
   ]
  },
  {
   "cell_type": "code",
   "execution_count": 109,
   "metadata": {
    "scrolled": true
   },
   "outputs": [
    {
     "name": "stdout",
     "output_type": "stream",
     "text": [
      "Sparsity Pattern:  57\n",
      "Precision:  0.175438596491\n",
      "Recall:  1\n"
     ]
    },
    {
     "data": {
      "image/png": "[encoded data removed]",
      "text/plain": [
       "<matplotlib.figure.Figure at 0x7ff661021750>"
      ]
     },
     "metadata": {},
     "output_type": "display_data"
    }
   ],
   "source": [
    "print \"Sparsity Pattern: \", np.count_nonzero(W_f) #originally was 10\n",
    "print \"Precision: \", np.count_nonzero(W_f[:k])*1./np.count_nonzero(W_f)\n",
    "print \"Recall: \",np.count_nonzero(W_f[:k])/k\n",
    "\n",
    "plt.plot(lambdavalues, precisionVal, label=\"precision\")\n",
    "plt.plot(lambdavalues, recallVal, label=\"recall\")\n",
    "plt.xlabel(\"lambda\")\n",
    "plt.ylabel(\"Precision and Recall\")\n",
    "plt.legend()\n",
    "\n",
    "axis = plt.gca()\n",
    "axis.set_xlim(axis.get_xlim()[::-1])\n",
    "\n",
    "plt.show()"
   ]
  },
  {
   "cell_type": "code",
   "execution_count": 135,
   "metadata": {},
   "outputs": [],
   "source": [
    "#Q 4.3.2\n",
    "#Sampling from std normal distribution\n",
    "d = 80\n",
    "n = 250\n",
    "k = 10\n",
    "\n",
    "X = np.random.normal(0, 10, size=(d,n))\n",
    "# b = 0\n",
    "# W = np.zeros(d)\n",
    "# for i in range(k):\n",
    "#     t = random.uniform(0,1)\n",
    "#     if t >= 0.5:\n",
    "#         W[i] = 10\n",
    "#     else:\n",
    "#         W[i] = -10\n",
    "        \n",
    "# W[:k] = 10\n",
    "eps = np.random.normal(0, 10, size=(n))\n",
    "Y = X.T.dot(W_f) + b + eps\n",
    "\n",
    "#creating sparse matrix\n",
    "X = sparse.csr_matrix(X)\n",
    "# lambda_max = 2*np.linalg.norm(X.dot(Y - np.mean(Y)), ord=np.inf)\n",
    "lambda_max = 5\n",
    "ak = 2*np.sum(i*i for i in X.T.toarray())"
   ]
  },
  {
   "cell_type": "code",
   "execution_count": 136,
   "metadata": {
    "collapsed": true
   },
   "outputs": [],
   "source": [
    "def coordinate_descent2(lambda_max, Y, X, W, b, K):\n",
    "    lambdavalues = []\n",
    "    lossvalues = []\n",
    "    nonzeroes = []\n",
    "    precisionVal = []\n",
    "    recallVal = []\n",
    "    trainRMSE = []\n",
    "    \n",
    "    #set convergence condition\n",
    "    for iteration in range(10):\n",
    "        #STEP 1: Computing residual vector r (4.1.1)\n",
    "        r = Y - X.T*W - b\n",
    "\n",
    "        #STEP 2: Update b (4.1.2)\n",
    "        bOld = b\n",
    "        b = (1.0/n)*(r+b).sum()\n",
    "\n",
    "        #STEP 3: Update r(4.1.3)\n",
    "        r = r + bOld - b\n",
    "        for k in range(d):\n",
    "            #STEP 4: Calculate ck (4.1.4) \n",
    "            xik = X[k]\n",
    "\n",
    "            t = xik.T*W[k]\n",
    "            t = t.toarray().reshape(n)\n",
    "\n",
    "            ck = 2*xik*(r+t)\n",
    "            ck =  ck.item(0)\n",
    "\n",
    "            #STEP 5: Update wk\n",
    "            Wo = W[k]\n",
    "            if ck < -lambda_max:\n",
    "                W[k] = (ck + lambda_max)/ak[k]\n",
    "            elif -lambda_max <= ck <= lambda_max:\n",
    "                W[k] = 0\n",
    "            elif ck > lambda_max:\n",
    "                W[k] = (ck - lambda_max)/ak[k]\n",
    "\n",
    "            #STEP 6: Update r (4.1.5)        \n",
    "            r = r.reshape(n,1) + X[k].T*(Wo-W[k])\n",
    "            r = np.squeeze(np.asarray(r))\n",
    "\n",
    "\n",
    "        \n",
    "        #Loss\n",
    "        t1 = (X.T*W+b-Y)\n",
    "        t11 = np.square(t1)\n",
    "        t2 = np.sum(t11)\n",
    "        loss = t2 + lambda_max*(np.sum(np.absolute(W)))\n",
    "        print \"Loss: \",loss\n",
    "        lossvalues.append(loss)\n",
    "        #lambda values for gramax/2\n",
    "        nonzeroes.append(np.count_nonzero(W))\n",
    "        \n",
    "        #collecting rmse training values for graph\n",
    "        trmse = rmse(X.T*W+b, Y)\n",
    "        trainRMSE.append(trmse)\n",
    "        print \"RMSE:\", trmse\n",
    "        \n",
    "        #precision\n",
    "        if np.count_nonzero(W) != 0:\n",
    "            precisionVal.append(np.count_nonzero(W[:K])*1./float(np.count_nonzero(W)))\n",
    "        else:\n",
    "            precisionVal.append(1)\n",
    "        \n",
    "        #recall\n",
    "        recallVal.append(np.count_nonzero(W[:K])/float(K))\n",
    "            \n",
    "    return trainRMSE, lossvalues, nonzeroes, W, b, precisionVal, recallVal\n",
    "            \n",
    "def rmse(P, A):\n",
    "    return np.sqrt(((P-A)**2).mean())\n",
    "\n",
    "# def predict()\n"
   ]
  },
  {
   "cell_type": "markdown",
   "metadata": {},
   "source": [
    "trainRMSE, lossvalues, nonzeroes, W_f, b_f, precisionVal2, recallVal2 = coordinate_descent2(lambda_max, Y, X, W_f, b_f, k)"
   ]
  },
  {
   "cell_type": "code",
   "execution_count": 138,
   "metadata": {},
   "outputs": [
    {
     "name": "stdout",
     "output_type": "stream",
     "text": [
      "[1.0, 1.0, 1.0, 1.0, 1.0, 1.0, 1.0, 0.43478260869565216, 0.23809523809523808, 0.17543859649122806] [0.125, 0.125, 0.125, 0.125, 0.125, 0.125, 0.125, 0.125, 0.125, 0.125]\n",
      "[0.1, 1.0, 1.0, 1.0, 1.0, 1.0, 1.0, 1.0, 1.0, 1.0] [1.0, 1.0, 1.0, 1.0, 1.0, 1.0, 1.0, 1.0, 1.0, 1.0]\n"
     ]
    }
   ],
   "source": [
    "print precisionVal, precisionVal2\n",
    "print recallVal, recallVal2"
   ]
  },
  {
   "cell_type": "code",
   "execution_count": 139,
   "metadata": {},
   "outputs": [
    {
     "data": {
      "image/png": "[encoded data removed]",
      "text/plain": [
       "<matplotlib.figure.Figure at 0x7ff664029990>"
      ]
     },
     "metadata": {},
     "output_type": "display_data"
    }
   ],
   "source": [
    "plt.plot(precisionVal, label=\"precision_old\")\n",
    "plt.plot(precisionVal2, label=\"precision_new\")\n",
    "plt.xlabel(\"Iterations\")\n",
    "plt.ylabel(\"Precision\")\n",
    "plt.legend()\n",
    "plt.show()\n",
    "#We can see that once we train on sigma=1 and get optimal lambda value, then the model \n",
    "#gives almost same precision for different gaussian noise (sigma = 10)"
   ]
  },
  {
   "cell_type": "code",
   "execution_count": 140,
   "metadata": {},
   "outputs": [
    {
     "data": {
      "image/png": "[encoded data removed]",
      "text/plain": [
       "<matplotlib.figure.Figure at 0x7ff660f62490>"
      ]
     },
     "metadata": {},
     "output_type": "display_data"
    }
   ],
   "source": [
    "plt.plot(recallVal, label=\"recall_old\")\n",
    "plt.plot(recallVal2, label=\"recall_new\")\n",
    "plt.xlabel(\"Iterations\")\n",
    "plt.ylabel(\"Recall\")\n",
    "plt.legend()\n",
    "plt.show()\n",
    "#We can see that once we train on sigma=1 and get optimal lambda value, then the model \n",
    "#gives almost same recall for different gaussian noise (sigma = 10)"
   ]
  }
 ],
 "metadata": {
  "kernelspec": {
   "display_name": "Python 2",
   "language": "python",
   "name": "python2"
  },
  "language_info": {
   "codemirror_mode": {
    "name": "ipython",
    "version": 2
   },
   "file_extension": ".py",
   "mimetype": "text/x-python",
   "name": "python",
   "nbconvert_exporter": "python",
   "pygments_lexer": "ipython2",
   "version": "2.7.12"
  }
 },
 "nbformat": 4,
 "nbformat_minor": 2
}
