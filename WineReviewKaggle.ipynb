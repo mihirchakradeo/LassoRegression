{
 "cells": [
  {
   "cell_type": "markdown",
   "metadata": {},
   "source": [
    "# Lasso Regression on Kaggle Wine Dataset"
   ]
  },
  {
   "cell_type": "code",
   "execution_count": 17,
   "metadata": {
    "collapsed": true
   },
   "outputs": [],
   "source": [
    "import numpy as np\n",
    "import pandas as pd\n",
    "from scipy import sparse\n",
    "import matplotlib.pyplot as plt"
   ]
  },
  {
   "cell_type": "markdown",
   "metadata": {},
   "source": [
    "### Loading the Dataset"
   ]
  },
  {
   "cell_type": "code",
   "execution_count": 169,
   "metadata": {},
   "outputs": [],
   "source": [
    "#LOADING THE DATASET\n",
    "#id, points, description\n",
    "trainData1 = pd.read_csv('data/trainData.txt', delimiter = \" \", names = [\"iid\",\"fid\",\"fv\"])\n",
    "trainData1['iid']=trainData1['iid']-1\n",
    "trainData1['fid']=trainData1['fid']-1\n",
    "validationData1 = pd.read_csv(\"data/valData.txt\", delimiter = \" \", names = [\"iid\",\"fid\",\"fv\"])\n",
    "validationData1['iid'] = validationData1['iid']-1\n",
    "validationData1['fid'] = validationData1['fid']-1\n",
    "VX = sparse.csr_matrix((validationData1['fv'], (validationData1['iid'],validationData1['fid']))) \n",
    "X = sparse.csr_matrix((trainData1['fv'], (trainData1['iid'],trainData1['fid'])))\n",
    "X = X.T\n",
    "Xt = X.T\n",
    "VX = VX.T\n",
    "d = X.shape[0]\n",
    "n = X.shape[1]"
   ]
  },
  {
   "cell_type": "code",
   "execution_count": 170,
   "metadata": {},
   "outputs": [],
   "source": [
    "#weight matrix\n",
    "W = np.random.rand(d)\n",
    "# W = np.zeros(3000)\n",
    "Yload = pd.read_csv('data/trainLabels.txt', delimiter = \" \", header = None)\n",
    "YVload = pd.read_csv('data/valLabels.txt', delimiter = \" \", header = None)\n",
    "#train labels\n",
    "Y = np.array(Yload).reshape(n)\n",
    "YV = np.array(YVload).reshape(n)\n",
    "b = np.zeros(n)\n",
    "\n",
    "lambda_max = 2*np.linalg.norm(X.dot(Y - np.mean(Y)), ord=np.inf)\n",
    "#Calculating ak\n",
    "ak = 2*np.sum(i*i for i in X.T.toarray())"
   ]
  },
  {
   "cell_type": "code",
   "execution_count": 171,
   "metadata": {
    "scrolled": false
   },
   "outputs": [],
   "source": [
    "def coordinate_descent(lambda_max, Y, X, W, b):\n",
    "    trainRMSE = []\n",
    "    validationRMSE = []\n",
    "    lambdavalues = []\n",
    "    lossvalues = []\n",
    "    nonzeroes = []\n",
    "    \n",
    "    prev_loss = float('inf')\n",
    "    loss = 0\n",
    "    delta = 0.1\n",
    "    RMSE = 1002\n",
    "    RMSEP = 1002\n",
    "    \n",
    "    while RMSE <= RMSEP:\n",
    "\n",
    "        #set convergence condition\n",
    "        while abs(loss-prev_loss) >= delta:\n",
    "            if RMSE > RMSEP:\n",
    "                break\n",
    "                \n",
    "            prev_loss = loss\n",
    "            #STEP 1: Computing residual vector r (4.1.1)\n",
    "            r = Y - X.T*W - b\n",
    "\n",
    "            #STEP 2: Update b (4.1.2)\n",
    "            bOld = b\n",
    "            b = (1.0/n)*(r+b).sum()\n",
    "\n",
    "            #STEP 3: Update r(4.1.3)\n",
    "            r = r + bOld - b\n",
    "            for k in range(d):\n",
    "                #STEP 4: Calculate ck (4.1.4) \n",
    "                xik = X[k]\n",
    "\n",
    "                t = xik.T*W[k]\n",
    "                t = t.toarray().reshape(n)\n",
    "\n",
    "                ck = 2*xik*(r+t)\n",
    "                ck =  ck.item(0)\n",
    "\n",
    "                #STEP 5: Update wk\n",
    "                Wo = W[k]\n",
    "                if ck < -lambda_max:\n",
    "                    W[k] = (ck + lambda_max)/ak[k]\n",
    "                elif -lambda_max <= ck <= lambda_max:\n",
    "                    W[k] = 0\n",
    "                elif ck > lambda_max:\n",
    "                    W[k] = (ck - lambda_max)/ak[k]\n",
    "\n",
    "                #STEP 6: Update r (4.1.5)        \n",
    "                r = r.reshape(n,1) + X[k].T*(Wo-W[k])\n",
    "                r = np.squeeze(np.asarray(r))\n",
    "            \n",
    "            \n",
    "            RMSEP = RMSE\n",
    "            RMSE = rmse(VX.T*W+b, YV)\n",
    "            #collecting rmse validation values for graph\n",
    "            validationRMSE.append(RMSE)\n",
    "            \n",
    "            #collecting rmse training values for graph\n",
    "            trmse = rmse(X.T*W+b, Y)\n",
    "            trainRMSE.append(trmse)\n",
    "            \n",
    "            print \"RMSE, RMSEP:\",RMSE,RMSEP\n",
    "            #Loss\n",
    "\n",
    "            t1 = (X.T*W+b-Y)\n",
    "            t11 = np.square(t1)\n",
    "            t2 = np.sum(t11)\n",
    "            loss = t2 + lambda_max*(np.sum(np.absolute(W)))\n",
    "            print \"Loss: \",loss\n",
    "            lossvalues.append(loss)\n",
    "            #lambda values for graph\n",
    "            lambdavalues.append(lambda_max)\n",
    "            \n",
    "            lambda_max = lambda_max/2\n",
    "            nonzeroes.append(np.count_nonzero(W))\n",
    "            \n",
    "    return trainRMSE, validationRMSE, lambdavalues, lossvalues, nonzeroes, W, b\n",
    "            \n",
    "def rmse(P, A):\n",
    "    return np.sqrt(((P-A)**2).mean())\n",
    "\n",
    "def fit(lambda_max, Y, X, W, b):\n",
    "    trainRMSE = []\n",
    "    lambdavalues = []\n",
    "    lossvalues = []\n",
    "    nonzeroes = []\n",
    "    \n",
    "    prev_loss = float('inf')\n",
    "    loss = 0\n",
    "    delta = 0.1\n",
    "    \n",
    "    #set convergence condition\n",
    "    while abs(loss-prev_loss) >= delta:\n",
    "\n",
    "        prev_loss = loss\n",
    "        #STEP 1: Computing residual vector r (4.1.1)\n",
    "        r = Y - X.T*W - b\n",
    "\n",
    "        #STEP 2: Update b (4.1.2)\n",
    "        bOld = b\n",
    "        b = (1.0/n)*(r+b).sum()\n",
    "\n",
    "        #STEP 3: Update r(4.1.3)\n",
    "        r = r + bOld - b\n",
    "        for k in range(d):\n",
    "            #STEP 4: Calculate ck (4.1.4) \n",
    "            xik = X[k]\n",
    "\n",
    "            t = xik.T*W[k]\n",
    "            t = t.toarray().reshape(n)\n",
    "\n",
    "            ck = 2*xik*(r+t)\n",
    "            ck =  ck.item(0)\n",
    "\n",
    "            #STEP 5: Update wk\n",
    "            Wo = W[k]\n",
    "            if ck < -lambda_max:\n",
    "                W[k] = (ck + lambda_max)/ak[k]\n",
    "            elif -lambda_max <= ck <= lambda_max:\n",
    "                W[k] = 0\n",
    "            elif ck > lambda_max:\n",
    "                W[k] = (ck - lambda_max)/ak[k]\n",
    "\n",
    "            #STEP 6: Update r (4.1.5)        \n",
    "            r = r.reshape(n,1) + X[k].T*(Wo-W[k])\n",
    "            r = np.squeeze(np.asarray(r))\n",
    "\n",
    "\n",
    "        #collecting rmse training values for graph\n",
    "        trmse = rmse(X.T*W+b, Y)\n",
    "        trainRMSE.append(trmse)\n",
    "\n",
    "        #Loss\n",
    "        t1 = (X.T*W+b-Y)\n",
    "        t11 = np.square(t1)\n",
    "        t2 = np.sum(t11)\n",
    "        loss = t2 + lambda_max*(np.sum(np.absolute(W)))\n",
    "        print \"Loss: \",loss\n",
    "        lossvalues.append(loss)\n",
    "        #lambda values for graph\n",
    "\n",
    "        nonzeroes.append(np.count_nonzero(W))\n",
    "\n",
    "    return trainRMSE, lossvalues, nonzeroes, W, b\n",
    "    \n",
    "def predict(W, X, b):\n",
    "    return W.T*X+b\n"
   ]
  },
  {
   "cell_type": "code",
   "execution_count": 172,
   "metadata": {
    "scrolled": false
   },
   "outputs": [
    {
     "name": "stdout",
     "output_type": "stream",
     "text": [
      "RMSE, RMSEP: 3.674432595136281 1002\n",
      "Loss:  156219.8447759767\n",
      "RMSE, RMSEP: 3.281769756113443 3.674432595136281\n",
      "Loss:  120290.43254417196\n",
      "RMSE, RMSEP: 2.999308942322199 3.281769756113443\n",
      "Loss:  106227.83205931788\n",
      "RMSE, RMSEP: 2.7580247829868267 2.999308942322199\n",
      "Loss:  93638.93135233488\n",
      "RMSE, RMSEP: 2.531297191857193 2.7580247829868267\n",
      "Loss:  81075.50675873258\n",
      "RMSE, RMSEP: 2.3604884258078784 2.531297191857193\n",
      "Loss:  69188.0040797508\n",
      "RMSE, RMSEP: 2.2285187942171194 2.3604884258078784\n",
      "Loss:  59096.85793208121\n",
      "RMSE, RMSEP: 2.118712422561662 2.2285187942171194\n",
      "Loss:  50320.57606505958\n",
      "RMSE, RMSEP: 2.064567203663436 2.118712422561662\n",
      "Loss:  42718.60740499086\n",
      "RMSE, RMSEP: 2.062058813848828 2.064567203663436\n",
      "Loss:  36566.25550476939\n",
      "RMSE, RMSEP: 2.0888203249606496 2.062058813848828\n",
      "Loss:  32007.419541501287\n"
     ]
    }
   ],
   "source": [
    "# r = Y - X.T*W - b\n",
    "trainRMSE, validationRMSE, lambdavalues, lossvalues, nonzeroes, W_f, b_f = coordinate_descent(lambda_max, Y, X, W, b)"
   ]
  },
  {
   "cell_type": "code",
   "execution_count": 175,
   "metadata": {},
   "outputs": [
    {
     "data": {
      "text/plain": [
       "[6, 10, 21, 51, 117, 226, 408, 740, 1261, 1820, 2331]"
      ]
     },
     "execution_count": 175,
     "metadata": {},
     "output_type": "execute_result"
    }
   ],
   "source": [
    "nonzeroes"
   ]
  },
  {
   "cell_type": "markdown",
   "metadata": {},
   "source": [
    "### GRAPH OF VALIDATION AND TRAIN RMSE VS LAMBDA"
   ]
  },
  {
   "cell_type": "code",
   "execution_count": 176,
   "metadata": {
    "scrolled": false
   },
   "outputs": [
    {
     "data": {
      "image/png": "[encoded data removed]",
      "text/plain": [
       "<matplotlib.figure.Figure at 0x7feb2c0d29d0>"
      ]
     },
     "metadata": {},
     "output_type": "display_data"
    }
   ],
   "source": [
    "#GRAPH OF VALIDATION AND TRAIN RMSE VS LAMBDA\n",
    "plt.plot(lambdavalues, trainRMSE, label=\"train_rmse\")\n",
    "plt.plot(lambdavalues, validationRMSE, label=\"validation_rmse\")\n",
    "plt.legend()\n",
    "\n",
    "axis = plt.gca()\n",
    "axis.set_xlim(axis.get_xlim()[::-1])\n",
    "plt.ylabel('Train and Validation RMSE')\n",
    "plt.xlabel('Lambda')\n",
    "plt.show()"
   ]
  },
  {
   "cell_type": "markdown",
   "metadata": {},
   "source": [
    "### Graph of Number of Non Zeros vs Iterations"
   ]
  },
  {
   "cell_type": "code",
   "execution_count": 180,
   "metadata": {},
   "outputs": [
    {
     "data": {
      "image/png": "[encoded data removed]",
      "text/plain": [
       "<matplotlib.figure.Figure at 0x7feb01ef53d0>"
      ]
     },
     "metadata": {},
     "output_type": "display_data"
    }
   ],
   "source": [
    "plt.plot(nonzeroes)\n",
    "plt.ylabel('Non Zeroes')\n",
    "plt.show()"
   ]
  },
  {
   "cell_type": "code",
   "execution_count": 178,
   "metadata": {},
   "outputs": [
    {
     "name": "stdout",
     "output_type": "stream",
     "text": [
      "Best Lambda Value:  2.4841204121093856\n"
     ]
    }
   ],
   "source": [
    "print \"Best Lambda Value: \",lambdavalues[-2]"
   ]
  },
  {
   "cell_type": "markdown",
   "metadata": {},
   "source": [
    "### Graph of Lambda Values vs Loss"
   ]
  },
  {
   "cell_type": "code",
   "execution_count": 179,
   "metadata": {
    "scrolled": true
   },
   "outputs": [
    {
     "data": {
      "image/png": "[encoded data removed]",
      "text/plain": [
       "<matplotlib.figure.Figure at 0x7feb01e20110>"
      ]
     },
     "metadata": {},
     "output_type": "display_data"
    }
   ],
   "source": [
    "plt.plot(lambdavalues, lossvalues)\n",
    "plt.show()"
   ]
  },
  {
   "cell_type": "code",
   "execution_count": 32,
   "metadata": {},
   "outputs": [
    {
     "name": "stdout",
     "output_type": "stream",
     "text": [
      "Loss:  36180.08965106129\n",
      "Loss:  36035.66000815263\n",
      "Loss:  35935.029868502024\n",
      "Loss:  35843.55465217138\n",
      "Loss:  35755.237132112394\n",
      "Loss:  35668.62824138742\n",
      "Loss:  35582.73359277983\n",
      "Loss:  35496.832847874364\n",
      "Loss:  35410.38589410598\n",
      "Loss:  35322.90304492382\n",
      "Loss:  35234.37702330213\n",
      "Loss:  35145.01721235345\n",
      "Loss:  35054.97475308699\n",
      "Loss:  34964.86083228764\n",
      "Loss:  34875.157004534616\n",
      "Loss:  34786.64755284373\n",
      "Loss:  34699.92157498068\n",
      "Loss:  34615.55313928444\n",
      "Loss:  34534.07360363843\n",
      "Loss:  34456.07978757867\n",
      "Loss:  34381.860903507586\n",
      "Loss:  34311.474308122706\n",
      "Loss:  34244.8148877974\n",
      "Loss:  34182.012723224274\n",
      "Loss:  34123.10325377961\n",
      "Loss:  34068.97401716191\n",
      "Loss:  34018.58520783641\n",
      "Loss:  33971.59404746341\n",
      "Loss:  33927.64693909805\n",
      "Loss:  33886.596368243656\n",
      "Loss:  33848.12517361261\n",
      "Loss:  33811.96847269156\n",
      "Loss:  33777.90685914278\n",
      "Loss:  33745.73863016148\n",
      "Loss:  33715.294977522775\n",
      "Loss:  33686.42387991795\n",
      "Loss:  33659.015781082955\n",
      "Loss:  33632.97101368428\n",
      "Loss:  33608.20845235187\n",
      "Loss:  33584.65138316457\n",
      "Loss:  33562.21856965515\n",
      "Loss:  33540.87672061417\n",
      "Loss:  33520.59085313123\n",
      "Loss:  33501.380677319816\n",
      "Loss:  33483.27259837174\n",
      "Loss:  33466.225841683445\n",
      "Loss:  33450.14607037624\n",
      "Loss:  33434.93602593671\n",
      "Loss:  33420.50674329992\n",
      "Loss:  33406.8019981184\n",
      "Loss:  33393.76845252941\n",
      "Loss:  33381.37233299364\n",
      "Loss:  33369.57448259018\n",
      "Loss:  33358.34677733756\n",
      "Loss:  33347.661228963254\n",
      "Loss:  33337.4989004925\n",
      "Loss:  33327.83482594791\n",
      "Loss:  33318.65872290044\n",
      "Loss:  33309.95888115559\n",
      "Loss:  33301.71897974886\n",
      "Loss:  33293.91385147869\n",
      "Loss:  33286.525480715856\n",
      "Loss:  33279.530446173245\n",
      "Loss:  33272.8985792859\n",
      "Loss:  33266.60971413582\n",
      "Loss:  33260.647066735895\n",
      "Loss:  33254.988093168446\n",
      "Loss:  33249.60678209043\n",
      "Loss:  33244.48428420698\n",
      "Loss:  33239.60992574158\n",
      "Loss:  33234.982364349205\n",
      "Loss:  33230.58275920872\n",
      "Loss:  33226.39524639379\n",
      "Loss:  33222.410442609355\n",
      "Loss:  33218.62236190872\n",
      "Loss:  33215.03059281872\n",
      "Loss:  33211.61979252295\n",
      "Loss:  33208.38926950997\n",
      "Loss:  33205.328484913494\n",
      "Loss:  33202.43150985285\n",
      "Loss:  33199.69193171059\n",
      "Loss:  33197.10539754263\n",
      "Loss:  33194.66483427404\n",
      "Loss:  33192.36283449626\n",
      "Loss:  33190.19157140747\n",
      "Loss:  33188.14315474767\n",
      "Loss:  33186.20939841455\n",
      "Loss:  33184.38338359208\n",
      "Loss:  33182.656984235415\n",
      "Loss:  33181.02368557285\n",
      "Loss:  33179.4775550676\n",
      "Loss:  33178.01287164796\n",
      "Loss:  33176.62396481532\n",
      "Loss:  33175.30556770347\n",
      "Loss:  33174.055558113265\n",
      "Loss:  33172.87187173272\n",
      "Loss:  33171.746215166815\n",
      "Loss:  33170.67573612034\n",
      "Loss:  33169.657232768186\n",
      "Loss:  33168.687616900206\n",
      "Loss:  33167.76418345119\n",
      "Loss:  33166.884549500515\n",
      "Loss:  33166.046641779176\n",
      "Loss:  33165.24846728483\n",
      "Loss:  33164.488356547285\n",
      "Loss:  33163.764416138016\n",
      "Loss:  33163.07475002712\n",
      "Loss:  33162.417638987325\n",
      "Loss:  33161.79151610292\n",
      "Loss:  33161.19493419028\n",
      "Loss:  33160.6265692577\n",
      "Loss:  33160.08518045647\n",
      "Loss:  33159.56958932992\n",
      "Loss:  33159.07868078256\n",
      "Loss:  33158.6113515231\n",
      "Loss:  33158.16651272053\n",
      "Loss:  33157.74310812416\n",
      "Loss:  33157.33990498093\n",
      "Loss:  33156.95585917441\n",
      "Loss:  33156.59012050249\n",
      "Loss:  33156.241755595416\n",
      "Loss:  33155.90989195603\n",
      "Loss:  33155.593696272386\n",
      "Loss:  33155.292366523274\n",
      "Loss:  33155.00508833519\n",
      "Loss:  33154.731160227835\n",
      "Loss:  33154.46990601294\n",
      "Loss:  33154.22077138845\n",
      "Loss:  33153.98319938606\n",
      "Loss:  33153.75662476482\n",
      "Loss:  33153.540475634036\n",
      "Loss:  33153.33422240265\n",
      "Loss:  33153.137388281044\n",
      "Loss:  33152.94954070108\n",
      "Loss:  33152.770263944505\n",
      "Loss:  33152.59918184294\n",
      "Loss:  33152.4359309503\n",
      "Loss:  33152.280150786464\n",
      "Loss:  33152.13149810704\n",
      "Loss:  33151.989649159455\n",
      "Loss:  33151.85429737374\n",
      "Loss:  33151.72515149642\n",
      "Loss:  33151.60193334555\n",
      "Loss:  33151.484378700494\n",
      "Loss:  33151.37223857528\n",
      "Loss:  33151.26525653739\n",
      "Loss:  33151.16321239973\n",
      "Loss:  33151.06588100099\n"
     ]
    }
   ],
   "source": [
    "#Q.4.4.2\n",
    "lambda_max2 = lambdavalues[-2]\n",
    "trainRMSE2, lossvalues2, nonzeroes, W2, b2 = fit(lambda_max2, Y, X, W_f, b_f)"
   ]
  },
  {
   "cell_type": "markdown",
   "metadata": {},
   "source": [
    "### Getting the predicted features"
   ]
  },
  {
   "cell_type": "code",
   "execution_count": 93,
   "metadata": {},
   "outputs": [
    {
     "name": "stdout",
     "output_type": "stream",
     "text": [
      "Features with highest weight:  ['acidity provides', 'truly', 'nearly', 'sweet black', 'lemony', 'ageability', 'lifesaver', 'big', 'stars', 'spearmint']\n",
      "Features with lowest weight:  ['earns', 'high', 'cherry berry', 'soft', 'sparkler', 'liqueur', 'cuts', 'semillon', 'brightened', 'banana']\n"
     ]
    }
   ],
   "source": [
    "#Q.4.2.2\n",
    "m = W2.argsort()\n",
    "indicesHW = m[-10:]\n",
    "indicesLW = m[:10]\n",
    "\n",
    "featureTypes = pd.read_csv('data/featureTypes.txt', header=None)\n",
    "\n",
    "featureNamesHW = []\n",
    "featureNamesLW = []\n",
    "\n",
    "for i in range(len(indicesHW)):\n",
    "    featureNamesHW.append(featureTypes[0][indicesHW[i]])\n",
    "for i in range(len(indicesLW)):\n",
    "    featureNamesLW.append(featureTypes[0][indicesLW[i]])\n",
    "    \n",
    "print \"Features with highest weight: \",featureNamesHW\n",
    "print \"Features with lowest weight: \",featureNamesLW\n",
    "# featureTypes.index"
   ]
  },
  {
   "cell_type": "code",
   "execution_count": 181,
   "metadata": {},
   "outputs": [
    {
     "name": "stdout",
     "output_type": "stream",
     "text": [
      "Loss:  37308.63689650287\n",
      "Loss:  37136.639874213855\n",
      "Loss:  37030.861807953515\n",
      "Loss:  36935.845362483175\n",
      "Loss:  36844.78085009905\n",
      "Loss:  36755.39461285396\n",
      "Loss:  36666.47504381825\n",
      "Loss:  36577.3462034846\n",
      "Loss:  36487.30180804904\n",
      "Loss:  36396.1080161377\n",
      "Loss:  36304.01133563699\n",
      "Loss:  36211.07665529065\n",
      "Loss:  36117.76165346349\n",
      "Loss:  36024.71039077155\n",
      "Loss:  35932.60941114828\n",
      "Loss:  35842.15435318969\n",
      "Loss:  35754.03661873106\n",
      "Loss:  35668.90811905918\n",
      "Loss:  35587.36518014037\n",
      "Loss:  35509.746126336206\n",
      "Loss:  35436.20277312189\n",
      "Loss:  35366.96531223452\n",
      "Loss:  35302.05682180133\n",
      "Loss:  35242.51748324113\n",
      "Loss:  35187.14187705397\n",
      "Loss:  35135.58413803982\n",
      "Loss:  35087.58161515024\n",
      "Loss:  35043.18223339885\n",
      "Loss:  35001.97253702596\n",
      "Loss:  34963.6075524218\n",
      "Loss:  34927.701105271655\n",
      "Loss:  34893.95926838493\n",
      "Loss:  34862.15274770031\n",
      "Loss:  34832.09549256854\n",
      "Loss:  34803.637749780115\n",
      "Loss:  34776.66071824625\n",
      "Loss:  34751.06944886556\n",
      "Loss:  34726.7991764514\n",
      "Loss:  34703.79316940321\n",
      "Loss:  34681.96540027665\n",
      "Loss:  34661.27919484569\n",
      "Loss:  34641.8164573692\n",
      "Loss:  34623.55039950585\n",
      "Loss:  34606.39670185353\n",
      "Loss:  34590.23922804152\n",
      "Loss:  34574.95990944849\n",
      "Loss:  34560.47866835173\n",
      "Loss:  34546.74133843745\n",
      "Loss:  34533.70308149432\n",
      "Loss:  34521.331359143805\n",
      "Loss:  34509.602399326686\n",
      "Loss:  34498.484676434324\n",
      "Loss:  34487.955136105855\n",
      "Loss:  34477.984263952225\n",
      "Loss:  34468.53919720653\n",
      "Loss:  34459.58998646124\n",
      "Loss:  34451.1098305982\n",
      "Loss:  34443.068794657855\n",
      "Loss:  34435.45065407394\n",
      "Loss:  34428.24535162139\n",
      "Loss:  34421.43405462915\n",
      "Loss:  34414.9955273445\n",
      "Loss:  34408.908446629604\n",
      "Loss:  34403.16515377897\n",
      "Loss:  34397.74961760667\n",
      "Loss:  34392.63175689771\n",
      "Loss:  34387.79548546919\n",
      "Loss:  34383.23185602375\n",
      "Loss:  34378.928630687464\n",
      "Loss:  34374.86769183916\n",
      "Loss:  34371.03046354174\n",
      "Loss:  34367.40084099238\n",
      "Loss:  34363.96310694971\n",
      "Loss:  34360.70901251852\n",
      "Loss:  34357.632535819685\n",
      "Loss:  34354.72372536971\n",
      "Loss:  34351.97090403503\n",
      "Loss:  34349.36358265038\n",
      "Loss:  34346.893823443366\n",
      "Loss:  34344.561701025545\n",
      "Loss:  34342.35627194818\n",
      "Loss:  34340.26775952396\n",
      "Loss:  34338.29182465965\n",
      "Loss:  34336.42443715904\n",
      "Loss:  34334.65957438901\n",
      "Loss:  34332.99219829348\n",
      "Loss:  34331.41746474164\n",
      "Loss:  34329.93064184127\n",
      "Loss:  34328.5268260055\n",
      "Loss:  34327.200999152716\n",
      "Loss:  34325.94801010157\n",
      "Loss:  34324.76295299513\n",
      "Loss:  34323.64010028081\n",
      "Loss:  34322.57877391687\n",
      "Loss:  34321.57691487428\n",
      "Loss:  34320.62718643287\n",
      "Loss:  34319.72681482473\n",
      "Loss:  34318.872379116234\n",
      "Loss:  34318.06096229091\n",
      "Loss:  34317.28991236104\n",
      "Loss:  34316.556832654096\n",
      "Loss:  34315.85948282198\n",
      "Loss:  34315.19585757769\n",
      "Loss:  34314.56416756638\n",
      "Loss:  34313.96278693419\n",
      "Loss:  34313.39022849216\n",
      "Loss:  34312.84513994824\n",
      "Loss:  34312.326257932335\n",
      "Loss:  34311.83282978086\n",
      "Loss:  34311.363932938206\n",
      "Loss:  34310.91856660073\n",
      "Loss:  34310.49579184471\n",
      "Loss:  34310.09468910952\n",
      "Loss:  34309.71431959298\n",
      "Loss:  34309.35368614588\n",
      "Loss:  34309.01205661676\n",
      "Loss:  34308.688448152345\n",
      "Loss:  34308.38188299813\n",
      "Loss:  34308.09142404422\n",
      "Loss:  34307.816180278474\n",
      "Loss:  34307.555313460674\n",
      "Loss:  34307.308042806326\n",
      "Loss:  34307.07363558166\n",
      "Loss:  34306.85138808963\n",
      "Loss:  34306.64063738477\n",
      "Loss:  34306.4407542759\n",
      "Loss:  34306.25113768631\n",
      "Loss:  34306.07122032688\n",
      "Loss:  34305.90046329951\n",
      "Loss:  34305.73835649349\n",
      "Loss:  34305.58441099642\n",
      "Loss:  34305.43816776451\n",
      "Loss:  34305.299195921485\n",
      "Loss:  34305.167090735646\n",
      "Loss:  34305.041479617445\n",
      "Loss:  34304.922022448976\n",
      "Loss:  34304.80839028764\n",
      "Loss:  34304.70027535067\n",
      "Loss:  34304.59738997541\n",
      "Loss:  34304.49945648437\n"
     ]
    }
   ],
   "source": [
    "#For kaggle\n",
    "validationData1 = pd.read_csv(\"data/valData.txt\", delimiter = \" \", names = [\"iid\",\"fid\",\"fv\"])\n",
    "validationData1['iid'] = validationData1['iid']-1\n",
    "validationData1['fid'] = validationData1['fid']-1\n",
    "VX = sparse.csr_matrix((validationData1['fv'], (validationData1['iid'],validationData1['fid']))) \n",
    "VX = VX.T\n",
    "YVload = pd.read_csv('data/valLabels.txt', delimiter = \" \", header = None)\n",
    "YV = np.array(YVload).reshape(n)\n",
    "\n",
    "# lambda_max2 = lambdavalues[-2]\n",
    "lambda_max2 = 2.848456372\n",
    "trainRMSEKaggle, lossvaluesKaggle, nonzeroesKaggle, WKaggle, bKaggle = fit(lambda_max2, Y, X, W_f, b_f)"
   ]
  },
  {
   "cell_type": "code",
   "execution_count": 185,
   "metadata": {},
   "outputs": [],
   "source": [
    "# print trainRMSEKaggle\n",
    "testData1 = pd.read_csv('data/testData.txt', delimiter = \" \", names = [\"iid\",\"fid\",\"fv\"])\n",
    "testData1['iid']=testData1['iid']-1\n",
    "testData1['fid']=testData1['fid']-1\n",
    "X_test = sparse.csr_matrix((testData1['fv'], (testData1['iid'],testData1['fid'])))\n",
    "X_test = X_test.T"
   ]
  },
  {
   "cell_type": "code",
   "execution_count": 186,
   "metadata": {},
   "outputs": [],
   "source": [
    "prediction = predict(WKaggle, X_test, bKaggle)\n",
    "preddf = pd.DataFrame(prediction)\n",
    "preddf.index += 1"
   ]
  },
  {
   "cell_type": "code",
   "execution_count": 187,
   "metadata": {},
   "outputs": [],
   "source": [
    "preddf.to_csv(\"predTestLabels.csv\", header=\"\")"
   ]
  }
 ],
 "metadata": {
  "kernelspec": {
   "display_name": "Python 2",
   "language": "python",
   "name": "python2"
  },
  "language_info": {
   "codemirror_mode": {
    "name": "ipython",
    "version": 2
   },
   "file_extension": ".py",
   "mimetype": "text/x-python",
   "name": "python",
   "nbconvert_exporter": "python",
   "pygments_lexer": "ipython2",
   "version": "2.7.12"
  }
 },
 "nbformat": 4,
 "nbformat_minor": 2
}
